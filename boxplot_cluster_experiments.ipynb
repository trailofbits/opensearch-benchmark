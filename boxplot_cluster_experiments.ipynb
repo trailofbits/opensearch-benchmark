{
 "cells": [
  {
   "cell_type": "markdown",
   "id": "03007537-5705-482a-a120-20947a1a652b",
   "metadata": {},
   "source": [
    "# Box Plots of Cluster experiments"
   ]
  },
  {
   "cell_type": "markdown",
   "id": "f54075cd-5daf-46e7-a6ec-196951c151b7",
   "metadata": {},
   "source": [
    "## Load Data"
   ]
  },
  {
   "cell_type": "code",
   "execution_count": null,
   "id": "2d236030-e245-48ed-af6e-4aa427407cbc",
   "metadata": {},
   "outputs": [],
   "source": [
    "%matplotlib ipympl\n",
    "%matplotlib widget\n",
    "\n",
    "import sqlite3\n",
    "import matplotlib.pyplot as plt\n",
    "import numpy as np\n",
    "from collections import defaultdict\n",
    "import IPython.display\n",
    "import ipywidgets\n",
    "\n",
    "# database is from metrics-to-sqlite.py with only the environments:\n",
    "# \"reytchison-instance-repeat\", \"reytchison-sample-hardware\", \"reytchison-host-repeat\"\n",
    "\n",
    "db = sqlite3.connect(\"amz_benchmark_data_20241024_repeat_host_repeat_instance_and_sample_hardware.sqlite\")"
   ]
  },
  {
   "cell_type": "code",
   "execution_count": null,
   "id": "91a5cb66-3818-40d5-936a-5f1acf282be6",
   "metadata": {},
   "outputs": [],
   "source": [
    "def _get_pop(\n",
    "    metric: str, workload: str, task: str, dist_ver: str, environment: str,\n",
    ") -> list[float]:\n",
    "    q = f\"\"\"\n",
    "    SELECT runs.run_group, \"{metric}\".value FROM runs JOIN \"{metric}\" ON \"{metric}\".run_id = runs.id\n",
    "    WHERE\n",
    "        runs.workload = :workload AND\n",
    "        runs.distribution_version=:dist_ver AND\n",
    "        runs.environment=:environment AND\n",
    "        \"{metric}\".task=:task AND\n",
    "        \"{metric}\".sample_type='normal';\n",
    "    \"\"\"\n",
    "    params = {\n",
    "        \"workload\": workload,\n",
    "        \"dist_ver\": dist_ver,\n",
    "        \"environment\":environment,\n",
    "        \"task\": task,\n",
    "    }\n",
    "    cur = db.execute(q, params)\n",
    "    return cur.fetchall()\n",
    "\n",
    "def _get_workloads() -> dict[str, list[str]]:\n",
    "    cur = db.execute(\n",
    "        \"SELECT DISTINCT workload, task FROM runs JOIN tasks ON run_id = id\"\n",
    "    )\n",
    "    res: dict[str, list[str]] = defaultdict(list)\n",
    "    for workload, task in cur.fetchall():\n",
    "        res[workload].append(task)\n",
    "    return res"
   ]
  },
  {
   "cell_type": "code",
   "execution_count": null,
   "id": "c1ab00e3-1530-4b7e-9fd4-c921741a070b",
   "metadata": {},
   "outputs": [],
   "source": [
    "# global variables\n",
    "os_dist = \"2.16.0\"\n",
    "es_dist = \"8.15.0\"\n",
    "environment_same_cluster = \"reytchison-instance-repeat\"\n",
    "environment_different_cluster = \"reytchison-sample-hardware\"\n",
    "environment_same_host = \"reytchison-host-repeat\"\n",
    "incomplete_tests = {\n",
    "    \"2024_10_21_13_43_01\",\n",
    "    \"2024_10_21_05_55_30\",\n",
    "    \"2024_10_17_16_54_07\",\n",
    "    \"2024_10_17_19_36_44\",\n",
    "}\n",
    "\n",
    "CPU_8275CL = \"Intel 8275CL\"\n",
    "CPU_8124M = \"Intel 8124M\"\n",
    "CPUS = [CPU_8275CL, CPU_8124M]\n",
    "# manually added by checking hw-info_[environment-name].tar.gz files\n",
    "lookup_test_cpu = {\n",
    "    # same instance ES tests\n",
    "    \"2024_10_20_23_06_45\": CPU_8275CL,\n",
    "    \"2024_10_20_08_29_48\": CPU_8275CL,\n",
    "    \"2024_10_19_17_53_54\": CPU_8275CL,\n",
    "    \"2024_10_19_03_18_05\": CPU_8275CL,\n",
    "    \"2024_10_18_12_41_29\": CPU_8275CL,\n",
    "    \"2024_10_17_22_07_52\": CPU_8275CL,\n",
    "    # same instance OS\n",
    "    \"2024_10_20_21_03_10\": CPU_8275CL,\n",
    "    \"2024_10_20_12_11_17\": CPU_8275CL,\n",
    "    \"2024_10_20_03_18_53\": CPU_8275CL,\n",
    "    \"2024_10_19_18_27_14\": CPU_8275CL,\n",
    "    \"2024_10_19_09_34_38\": CPU_8275CL,\n",
    "    \"2024_10_19_00_42_47\": CPU_8275CL,\n",
    "    \"2024_10_18_15_50_12\": CPU_8275CL,\n",
    "    \"2024_10_18_06_57_25\": CPU_8275CL,\n",
    "    \"2024_10_17_22_10_39\": CPU_8275CL,\n",
    "    # different instance ES\n",
    "    \"2024_10_18_22_25_37\": CPU_8275CL,\n",
    "    \"2024_10_18_22_26_14\": CPU_8275CL,\n",
    "    \"2024_10_18_22_27_06\": CPU_8124M,\n",
    "    \"2024_10_18_22_28_13\": CPU_8275CL,\n",
    "    # different instance OS:\n",
    "    \"2024_10_18_22_23_19\": CPU_8275CL,\n",
    "    \"2024_10_18_22_23_59\": CPU_8275CL,\n",
    "    \"2024_10_18_22_25_14\": CPU_8275CL,\n",
    "    \"2024_10_18_22_24_40\": CPU_8275CL,\n",
    "    # same host ES:\n",
    "    \"2024_10_23_18_29_25\": CPU_8124M,\n",
    "    \"2024_10_23_18_29_58\": CPU_8124M,\n",
    "    \"2024_10_23_18_27_07\": CPU_8124M,\n",
    "    \"2024_10_23_18_28_03\": CPU_8124M,\n",
    "    # same host OS:\n",
    "    \"2024_10_23_18_26_04\": CPU_8124M,\n",
    "    \"2024_10_23_18_23_55\": CPU_8124M,\n",
    "    \"2024_10_23_18_25_13\": CPU_8124M,\n",
    "    \"2024_10_23_18_24_32\": CPU_8124M,\n",
    "    \n",
    "}\n",
    "cpu_color_lookup = {\n",
    "    CPU_8275CL: 'lightblue',\n",
    "    CPU_8124M: 'lightgreen',\n",
    "}\n",
    "version_map = {\"2.16.0\": \"OS\", \"8.15.0\": \"ES\"}\n"
   ]
  },
  {
   "cell_type": "markdown",
   "id": "252116b0-4cc5-4030-b101-14723b246128",
   "metadata": {},
   "source": [
    "## Plot"
   ]
  },
  {
   "cell_type": "code",
   "execution_count": null,
   "id": "b044e1b7-7d62-4146-942c-2c5da3f68133",
   "metadata": {},
   "outputs": [],
   "source": [
    "def _subplot(pop, ax, plt, legend=False, label_xticks=True):\n",
    "    metrics = defaultdict(list)\n",
    "    for (label, val) in pop:\n",
    "        # skip incomplete tests\n",
    "        if label in incomplete_tests:\n",
    "            continue\n",
    "        metrics[label].append(val)\n",
    "    labels = list(metrics.keys())\n",
    "    labels.sort()\n",
    "    counts = [len(metrics[label]) for label in labels]\n",
    "    correct_count = max(counts)\n",
    "    # make sure the number of samples is correct\n",
    "    for label, count in zip(labels, counts):\n",
    "        assert count == correct_count, f\"{label} has different count {count} from {correct_count}\"\n",
    "\n",
    "    values = [np.array(metrics[label]) for label in labels]\n",
    "    bp = ax.boxplot(values, widths=0.5, patch_artist=True, flierprops={'markersize': 4})\n",
    "    for label, box in zip(labels, bp['boxes']):\n",
    "        cpu = lookup_test_cpu[label]\n",
    "        color = cpu_color_lookup[cpu]\n",
    "        box.set_facecolor(color)\n",
    "    if label_xticks:\n",
    "        ax.set_xticklabels(labels, rotation=30, ha='right')\n",
    "    ax.tick_params(axis='x', labelsize=8)\n",
    "    if legend:\n",
    "        legend_elements = [plt.Rectangle((0, 0), 1, 1, fc=color, label=label) \n",
    "                   for label, color in cpu_color_lookup.items()]\n",
    "        ax.legend(title=\"CPU\", handles=legend_elements, loc='upper left', ncol=len(cpu_color_lookup), fontsize=\"small\")"
   ]
  },
  {
   "cell_type": "code",
   "execution_count": null,
   "id": "3fc534a6-6ba5-4ad8-9fea-6409d5f94f29",
   "metadata": {},
   "outputs": [],
   "source": [
    "def _plot_same_vs_diff_instance(metric, task, dist_version):\n",
    "    workload = \"big5\"\n",
    "    engine_type = version_map[dist_version]\n",
    "    pop_repeat_cluster = _get_pop(metric, workload, task, dist_version, environment_same_cluster)\n",
    "    pop_different_cluster = _get_pop(metric, workload, task, dist_version, environment_different_cluster)\n",
    "    fig, (ax1, ax2) = plt.subplots(1, 2, figsize=(11,6), sharey=True)\n",
    "    fig.suptitle(f\"{metric}: {engine_type} {task} ({workload})\")\n",
    "    plt.subplots_adjust(left=0.1, bottom=0.2)\n",
    "    _subplot(pop_repeat_cluster, ax1, plt, legend=True)\n",
    "    ax1.set_title(\"Same Instance\")\n",
    "    _subplot(pop_different_cluster, ax2, plt)\n",
    "    ax2.set_title(\"Different Instances\")"
   ]
  },
  {
   "cell_type": "code",
   "execution_count": null,
   "id": "c826f456-fcac-43c2-aa74-480d1e30f4c6",
   "metadata": {},
   "outputs": [],
   "source": [
    "def _plot_all(metric, task, dist_version):\n",
    "    workload = \"big5\"\n",
    "    engine_type = version_map[dist_version]\n",
    "    pop_repeat_cluster = _get_pop(metric, workload, task, dist_version, environment_same_cluster)\n",
    "    pop_different_cluster = _get_pop(metric, workload, task, dist_version, environment_different_cluster)\n",
    "    pop_repeat_host_cluster = _get_pop(metric, workload, task, dist_version, environment_same_host)\n",
    "    fig, (ax1, ax2, ax3) = plt.subplots(1, 3, figsize=(11,6), sharey=True)\n",
    "    fig.suptitle(f\"{metric}: {engine_type} {task} ({workload})\")\n",
    "    plt.subplots_adjust(left=0.1, bottom=0.2)\n",
    "    _subplot(pop_repeat_cluster, ax1, plt, legend=True, label_xticks=True)\n",
    "    ax1.set_title(\"Same Instance\")\n",
    "    _subplot(pop_different_cluster, ax2, plt, label_xticks=True)\n",
    "    ax2.set_title(\"Different Instances\")\n",
    "    _subplot(pop_repeat_host_cluster, ax3, plt, label_xticks=True)\n",
    "    ax3.set_title(\"Same Host (Different Instances)\")"
   ]
  },
  {
   "cell_type": "code",
   "execution_count": null,
   "id": "d02a1788-3e30-4555-b9a1-8d168ca1cb0f",
   "metadata": {},
   "outputs": [],
   "source": [
    "def plot(metric, task, dist_version, plot_type):\n",
    "    plot_types = {\n",
    "        \"all\": _plot_all,\n",
    "        \"same_vs_diff_instance\": _plot_same_vs_diff_instance\n",
    "    }\n",
    "    if plot_type not in plot_types.keys():\n",
    "        print(f\"ERROR: plot_type must be one of {', '.join(list(plot_types.keys()))}\")\n",
    "        return\n",
    "    plot_func = plot_types[plot_type]\n",
    "    plot_func(metric, task, dist_version)"
   ]
  },
  {
   "cell_type": "markdown",
   "id": "f781404f-8efc-440e-aef4-70fc129240b7",
   "metadata": {},
   "source": [
    "# Plot Results"
   ]
  },
  {
   "cell_type": "code",
   "execution_count": null,
   "id": "bc2fb294-e93c-43a6-9048-8c33a04336f4",
   "metadata": {},
   "outputs": [],
   "source": [
    "# change these variables\n",
    "metric = \"service_time\"\n",
    "task = \"range-auto-date-histo\"\n",
    "plot_type = \"all\" # options: \"all\", \"same_vs_diff_instance\"\n",
    "dist = os_dist # options: os_dist, es_dist"
   ]
  },
  {
   "cell_type": "code",
   "execution_count": null,
   "id": "a0bb295b-9627-42be-8685-4e3bb4d0c308",
   "metadata": {},
   "outputs": [],
   "source": [
    "# plot\n",
    "plot(metric, task, dist, plot_type)"
   ]
  },
  {
   "cell_type": "markdown",
   "id": "10703e46-ae61-4b75-9e29-6de7fc3e1922",
   "metadata": {},
   "source": [
    "# Save plots of all results"
   ]
  },
  {
   "cell_type": "code",
   "execution_count": null,
   "id": "5911b5db-015b-4199-9ef5-254b225ad8e6",
   "metadata": {},
   "outputs": [],
   "source": [
    "from pathlib import Path\n",
    "workloads = _get_workloads()\n",
    "tasks = workloads[\"big5\"]\n",
    "def save_plots_for_all(metric: str, plot_type, output_dir: Path):\n",
    "    plt.ioff()\n",
    "    for task in tasks:\n",
    "        for dist in [es_dist, os_dist]:\n",
    "            plot(metric, task, dist, plot_type=plot_type)\n",
    "            engine_type = version_map[dist]\n",
    "            img_path = output_dir / f\"{task}-{engine_type}-{metric}.png\"\n",
    "            plt.savefig(img_path, dpi=300)\n",
    "            plt.close()\n",
    "    plt.ion()"
   ]
  },
  {
   "cell_type": "code",
   "execution_count": null,
   "id": "89a81577-be1d-4bbd-b0b0-945d667fa5ff",
   "metadata": {},
   "outputs": [],
   "source": [
    "metric = \"service_time\"\n",
    "output_dir = Path(\"cluster_experiment_plots_same_vs_diff_instances\")\n",
    "output_dir.mkdir(exist_ok=True)\n",
    "plot_type = \"same_vs_diff_instance\"\n",
    "save_plots_for_all(metric, plot_type, output_dir)"
   ]
  },
  {
   "cell_type": "code",
   "execution_count": null,
   "id": "d55d85d7-8a6e-4873-ab66-f71df37d988b",
   "metadata": {},
   "outputs": [],
   "source": [
    "metric = \"service_time\"\n",
    "output_dir = Path(\"cluster_experiment_plots_all\")\n",
    "output_dir.mkdir(exist_ok=True)\n",
    "plot_type = \"all\"\n",
    "save_plots_for_all(metric, plot_type, output_dir)"
   ]
  },
  {
   "cell_type": "code",
   "execution_count": null,
   "id": "f084422a-1755-44d7-a6bf-89f01a3e1263",
   "metadata": {},
   "outputs": [],
   "source": []
  }
 ],
 "metadata": {
  "kernelspec": {
   "display_name": "Python 3 (ipykernel)",
   "language": "python",
   "name": "python3"
  },
  "language_info": {
   "codemirror_mode": {
    "name": "ipython",
    "version": 3
   },
   "file_extension": ".py",
   "mimetype": "text/x-python",
   "name": "python",
   "nbconvert_exporter": "python",
   "pygments_lexer": "ipython3",
   "version": "3.11.0"
  }
 },
 "nbformat": 4,
 "nbformat_minor": 5
}
