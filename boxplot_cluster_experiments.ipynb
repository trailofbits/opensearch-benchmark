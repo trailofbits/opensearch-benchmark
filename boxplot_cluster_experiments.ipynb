{
 "cells": [
  {
   "cell_type": "markdown",
   "id": "03007537-5705-482a-a120-20947a1a652b",
   "metadata": {},
   "source": [
    "# Box Plots of Cluster experiments"
   ]
  },
  {
   "cell_type": "code",
   "execution_count": null,
   "id": "2d236030-e245-48ed-af6e-4aa427407cbc",
   "metadata": {},
   "outputs": [],
   "source": [
    "%matplotlib ipympl\n",
    "%matplotlib widget\n",
    "\n",
    "import sqlite3\n",
    "import matplotlib.pyplot as plt\n",
    "import numpy as np\n",
    "from collections import defaultdict\n",
    "import IPython.display\n",
    "import ipywidgets\n",
    "\n",
    "\n",
    "db = sqlite3.connect(\"amz_benchmark_data_20241021_repeat_instance_and_sample_hardware.sqlite\")"
   ]
  },
  {
   "cell_type": "code",
   "execution_count": null,
   "id": "91a5cb66-3818-40d5-936a-5f1acf282be6",
   "metadata": {},
   "outputs": [],
   "source": [
    "def _get_pop(\n",
    "    metric: str, workload: str, task: str, dist_ver: str, environment: str,\n",
    ") -> list[float]:\n",
    "    q = f\"\"\"\n",
    "    SELECT runs.run_group, \"{metric}\".value FROM runs JOIN \"{metric}\" ON \"{metric}\".run_id = runs.id\n",
    "    WHERE\n",
    "        runs.workload = :workload AND\n",
    "        runs.distribution_version=:dist_ver AND\n",
    "        runs.environment=:environment AND\n",
    "        \"{metric}\".task=:task AND\n",
    "        \"{metric}\".sample_type='normal';\n",
    "    \"\"\"\n",
    "    params = {\n",
    "        \"workload\": workload,\n",
    "        \"dist_ver\": dist_ver,\n",
    "        \"environment\":environment,\n",
    "        \"task\": task,\n",
    "    }\n",
    "    cur = db.execute(q, params)\n",
    "    return cur.fetchall()"
   ]
  },
  {
   "cell_type": "code",
   "execution_count": null,
   "id": "c1ab00e3-1530-4b7e-9fd4-c921741a070b",
   "metadata": {},
   "outputs": [],
   "source": [
    "# global variables\n",
    "os_dist = \"2.16.0\"\n",
    "es_dist = \"8.15.0\"\n",
    "environment_same_cluster = \"reytchison-instance-repeat\"\n",
    "environment_different_cluster = \"reytchison-sample-hardware\"\n",
    "incomplete_tests = {\n",
    "    \"2024_10_21_13_43_01\",\n",
    "    \"2024_10_21_05_55_30\",\n",
    "    \"2024_10_17_16_54_07\",\n",
    "    \"2024_10_17_19_36_44\",\n",
    "}\n",
    "\n",
    "CPU_8275CL = \"Intel 8275CL\"\n",
    "CPU_8124M = \"Intel 8124M\"\n",
    "CPUS = [CPU_8275CL, CPU_8124M]\n",
    "lookup_test_cpu = {\n",
    "    # same instance ES tests\n",
    "    \"2024_10_20_23_06_45\": CPU_8275CL,\n",
    "    \"2024_10_20_08_29_48\": CPU_8275CL,\n",
    "    \"2024_10_19_17_53_54\": CPU_8275CL,\n",
    "    \"2024_10_19_03_18_05\": CPU_8275CL,\n",
    "    \"2024_10_18_12_41_29\": CPU_8275CL,\n",
    "    \"2024_10_17_22_07_52\": CPU_8275CL,\n",
    "    # same instance OS\n",
    "    \"2024_10_20_21_03_10\": CPU_8275CL,\n",
    "    \"2024_10_20_12_11_17\": CPU_8275CL,\n",
    "    \"2024_10_20_03_18_53\": CPU_8275CL,\n",
    "    \"2024_10_19_18_27_14\": CPU_8275CL,\n",
    "    \"2024_10_19_09_34_38\": CPU_8275CL,\n",
    "    \"2024_10_19_00_42_47\": CPU_8275CL,\n",
    "    \"2024_10_18_15_50_12\": CPU_8275CL,\n",
    "    \"2024_10_18_06_57_25\": CPU_8275CL,\n",
    "    \"2024_10_17_22_10_39\": CPU_8275CL,\n",
    "    # different instance ES\n",
    "    \"2024_10_18_22_25_37\": CPU_8275CL,\n",
    "    \"2024_10_18_22_26_14\": CPU_8275CL,\n",
    "    \"2024_10_18_22_27_06\": CPU_8124M,\n",
    "    \"2024_10_18_22_28_13\": CPU_8275CL,\n",
    "    # different instance OS:\n",
    "    \"2024_10_18_22_23_19\": CPU_8275CL,\n",
    "    \"2024_10_18_22_23_59\": CPU_8275CL,\n",
    "    \"2024_10_18_22_25_14\": CPU_8275CL,\n",
    "    \"2024_10_18_22_24_40\": CPU_8275CL,\n",
    "}\n",
    "cpu_color_lookup = {\n",
    "    CPU_8275CL: 'lightblue',\n",
    "    CPU_8124M: 'lightgreen',\n",
    "}\n"
   ]
  },
  {
   "cell_type": "code",
   "execution_count": null,
   "id": "b044e1b7-7d62-4146-942c-2c5da3f68133",
   "metadata": {},
   "outputs": [],
   "source": [
    "def _subplot(pop, ax, plt, legend=False):\n",
    "    metrics = defaultdict(list)\n",
    "    for (label, val) in pop:\n",
    "        # skip incomplete tests\n",
    "        if label in incomplete_tests:\n",
    "            continue\n",
    "        metrics[label].append(val)\n",
    "    labels = list(metrics.keys())\n",
    "    labels.sort()\n",
    "    counts = [len(metrics[label]) for label in labels]\n",
    "    correct_count = max(counts)\n",
    "    # make sure the number of samples is correct\n",
    "    for label, count in zip(labels, counts):\n",
    "        assert count == correct_count, f\"{label} has different count {count} from {correct_count}\"\n",
    "\n",
    "    values = [np.array(metrics[label]) for label in labels]\n",
    "    bp = ax.boxplot(values, widths=0.5, patch_artist=True)\n",
    "    for label, box in zip(labels, bp['boxes']):\n",
    "        cpu = lookup_test_cpu[label]\n",
    "        color = cpu_color_lookup[cpu]\n",
    "        box.set_facecolor(color)\n",
    "    ax.set_xticklabels(labels, rotation=45, ha='right')\n",
    "    ax.tick_params(axis='x', labelsize=8)\n",
    "    if legend:\n",
    "        legend_elements = [plt.Rectangle((0, 0), 1, 1, fc=color, label=label) \n",
    "                   for label, color in cpu_color_lookup.items()]\n",
    "        ax.legend(title=\"CPU\", handles=legend_elements, loc='upper left', ncol=len(cpu_color_lookup), fontsize=\"small\")"
   ]
  },
  {
   "cell_type": "code",
   "execution_count": null,
   "id": "2754541e-4f50-484e-998d-be99e43d81e4",
   "metadata": {},
   "outputs": [],
   "source": [
    "def plot(metric, task, dist_version):\n",
    "    workload = \"big5\"\n",
    "    version_map = {\"2.16.0\": \"OS\", \"8.15.0\": \"ES\"}\n",
    "    engine_type = version_map[dist_version]\n",
    "    pop_repeat_cluster = _get_pop(metric, workload, task, dist_version, environment_same_cluster)\n",
    "    pop_different_cluster = _get_pop(metric, workload, task, dist_version, environment_different_cluster)\n",
    "    fig, (ax1, ax2) = plt.subplots(1, 2, figsize=(11,6), sharey=True)\n",
    "    fig.suptitle(f\"{metric}: {engine_type} {task} ({workload})\")\n",
    "    plt.subplots_adjust(left=0.1, bottom=0.2)\n",
    "    _subplot(pop_repeat_cluster, ax1, plt, legend=True)\n",
    "    ax1.set_title(\"Same Instance\")\n",
    "    _subplot(pop_different_cluster, ax2, plt)\n",
    "    ax2.set_title(\"Different Instances\")\n",
    "    "
   ]
  },
  {
   "cell_type": "markdown",
   "id": "f781404f-8efc-440e-aef4-70fc129240b7",
   "metadata": {},
   "source": [
    "# Plot Results"
   ]
  },
  {
   "cell_type": "code",
   "execution_count": null,
   "id": "bc2fb294-e93c-43a6-9048-8c33a04336f4",
   "metadata": {},
   "outputs": [],
   "source": [
    "# change these variables\n",
    "metric = \"service_time\"\n",
    "task = \"query-string-on-message\"\n",
    "dist = es_dist # or es_dist"
   ]
  },
  {
   "cell_type": "code",
   "execution_count": null,
   "id": "a0bb295b-9627-42be-8685-4e3bb4d0c308",
   "metadata": {},
   "outputs": [],
   "source": [
    "# plot\n",
    "plot(metric, task, dist)"
   ]
  },
  {
   "cell_type": "code",
   "execution_count": null,
   "id": "0c42ced1-13b4-4648-bf57-6800f4aa9c4d",
   "metadata": {},
   "outputs": [],
   "source": []
  }
 ],
 "metadata": {
  "kernelspec": {
   "display_name": "Python 3 (ipykernel)",
   "language": "python",
   "name": "python3"
  },
  "language_info": {
   "codemirror_mode": {
    "name": "ipython",
    "version": 3
   },
   "file_extension": ".py",
   "mimetype": "text/x-python",
   "name": "python",
   "nbconvert_exporter": "python",
   "pygments_lexer": "ipython3",
   "version": "3.11.0"
  }
 },
 "nbformat": 4,
 "nbformat_minor": 5
}
